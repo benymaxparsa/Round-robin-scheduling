{
 "cells": [
  {
   "cell_type": "markdown",
   "metadata": {
    "collapsed": true,
    "pycharm": {
     "name": "#%% md\n"
    }
   },
   "source": [
    "# OS project: Round Robin"
   ]
  },
  {
   "cell_type": "code",
   "execution_count": 6,
   "outputs": [],
   "source": [
    "import operator\n",
    "import time\n",
    "from collections import deque\n",
    "from copy import deepcopy\n",
    "import numpy as np\n",
    "import pandas as pd\n",
    "import matplotlib.pyplot as plt\n",
    "plt.close(\"all\")"
   ],
   "metadata": {
    "collapsed": false,
    "pycharm": {
     "name": "#%%\n"
    }
   }
  },
  {
   "cell_type": "markdown",
   "source": [
    "## inputs:"
   ],
   "metadata": {
    "collapsed": false,
    "pycharm": {
     "name": "#%% md\n"
    }
   }
  },
  {
   "cell_type": "code",
   "execution_count": 26,
   "outputs": [
    {
     "ename": "SyntaxError",
     "evalue": "unexpected EOF while parsing (<string>, line 0)",
     "output_type": "error",
     "traceback": [
      "Traceback \u001B[1;36m(most recent call last)\u001B[0m:\n",
      "  File \u001B[0;32m\"C:\\Python310\\lib\\site-packages\\IPython\\core\\interactiveshell.py\"\u001B[0m, line \u001B[0;32m3457\u001B[0m, in \u001B[0;35mrun_code\u001B[0m\n    exec(code_obj, self.user_global_ns, self.user_ns)\n",
      "\u001B[1;36m  File \u001B[1;32m\"C:\\Users\\Hossein\\AppData\\Local\\Temp/ipykernel_14916/1578739040.py\"\u001B[1;36m, line \u001B[1;32m5\u001B[1;36m, in \u001B[1;35m<module>\u001B[1;36m\u001B[0m\n\u001B[1;33m    for i in range(eval(number_of_processes)):\u001B[0m\n",
      "\u001B[1;36m  File \u001B[1;32m\"<string>\"\u001B[1;36m, line \u001B[1;32munknown\u001B[0m\n\u001B[1;33m    \u001B[0m\n\u001B[1;37m    ^\u001B[0m\n\u001B[1;31mSyntaxError\u001B[0m\u001B[1;31m:\u001B[0m unexpected EOF while parsing\n"
     ]
    }
   ],
   "source": [
    "processes = []\n",
    "# name, enter_time, burst_time\n",
    "\n",
    "number_of_processes = input(\"enter the number of processes\")\n",
    "for i in range(eval(number_of_processes)):\n",
    "    name = input(\"name of processes: \")\n",
    "    entry_time = eval(input(\"entry time: (enter based on nano sec)\"))\n",
    "    burst_time = eval(input(\"burst time: (enter based on nano sec)\"))\n",
    "    processes.append([name, entry_time, burst_time])\n",
    "\n",
    "print(\"number of processes: {}\".format(number_of_processes))\n",
    "process_table=pd.DataFrame(processes)\n",
    "process_table=process_table.rename(columns={0:'name',1:'entry_time',2:'burst_time'})\n",
    "display(process_table)\n",
    "\n"
   ],
   "metadata": {
    "collapsed": false,
    "pycharm": {
     "name": "#%%\n"
    }
   }
  },
  {
   "cell_type": "markdown",
   "source": [
    "## Data Structures:"
   ],
   "metadata": {
    "collapsed": false,
    "pycharm": {
     "name": "#%% md\n"
    }
   }
  },
  {
   "cell_type": "code",
   "execution_count": 14,
   "outputs": [],
   "source": [
    "process_table.to_csv(r'./input.csv')"
   ],
   "metadata": {
    "collapsed": false,
    "pycharm": {
     "name": "#%%\n"
    }
   }
  },
  {
   "cell_type": "markdown",
   "source": [],
   "metadata": {
    "collapsed": false,
    "pycharm": {
     "name": "#%% md\n"
    }
   }
  },
  {
   "cell_type": "markdown",
   "source": [
    "## Load"
   ],
   "metadata": {
    "collapsed": false,
    "pycharm": {
     "name": "#%% md\n"
    }
   }
  },
  {
   "cell_type": "code",
   "execution_count": 7,
   "outputs": [
    {
     "name": "stdout",
     "output_type": "stream",
     "text": [
      "  name  entry_time  burst_time\n",
      "0   p1           0          10\n",
      "1   p2           3           6\n",
      "2   p3           3           4\n",
      "3   p4           8           3\n",
      "4   p5          13           5\n",
      "quantum:  4\n"
     ]
    }
   ],
   "source": [
    "process_table=pd.read_csv('./input.csv')\n",
    "number_of_processes = eval(input(\"enter the number of processes\"))\n",
    "quantum=eval(input(\"enter quantum: (enter based on nano sec)\"))\n",
    "print(\n",
    "    process_table\n",
    ")\n",
    "print('quantum: ',quantum)"
   ],
   "metadata": {
    "collapsed": false,
    "pycharm": {
     "name": "#%%\n"
    }
   }
  },
  {
   "cell_type": "markdown",
   "source": [
    "## Pre processing:\n"
   ],
   "metadata": {
    "collapsed": false,
    "pycharm": {
     "name": "#%% md\n"
    }
   }
  },
  {
   "cell_type": "code",
   "execution_count": 8,
   "outputs": [
    {
     "data": {
      "text/plain": "  name  entry_time  burst_time\n0   p1           0          10\n1   p2           3           6\n2   p3           3           4\n3   p4           8           3\n4   p5          13           5",
      "text/html": "<div>\n<style scoped>\n    .dataframe tbody tr th:only-of-type {\n        vertical-align: middle;\n    }\n\n    .dataframe tbody tr th {\n        vertical-align: top;\n    }\n\n    .dataframe thead th {\n        text-align: right;\n    }\n</style>\n<table border=\"1\" class=\"dataframe\">\n  <thead>\n    <tr style=\"text-align: right;\">\n      <th></th>\n      <th>name</th>\n      <th>entry_time</th>\n      <th>burst_time</th>\n    </tr>\n  </thead>\n  <tbody>\n    <tr>\n      <th>0</th>\n      <td>p1</td>\n      <td>0</td>\n      <td>10</td>\n    </tr>\n    <tr>\n      <th>1</th>\n      <td>p2</td>\n      <td>3</td>\n      <td>6</td>\n    </tr>\n    <tr>\n      <th>2</th>\n      <td>p3</td>\n      <td>3</td>\n      <td>4</td>\n    </tr>\n    <tr>\n      <th>3</th>\n      <td>p4</td>\n      <td>8</td>\n      <td>3</td>\n    </tr>\n    <tr>\n      <th>4</th>\n      <td>p5</td>\n      <td>13</td>\n      <td>5</td>\n    </tr>\n  </tbody>\n</table>\n</div>"
     },
     "metadata": {},
     "output_type": "display_data"
    }
   ],
   "source": [
    "processes = []\n",
    "process_table.sort_values(by='entry_time',inplace=True)\n",
    "display(process_table)"
   ],
   "metadata": {
    "collapsed": false,
    "pycharm": {
     "name": "#%%\n"
    }
   }
  },
  {
   "cell_type": "markdown",
   "source": [
    "## Main code:"
   ],
   "metadata": {
    "collapsed": false,
    "pycharm": {
     "name": "#%% md\n"
    }
   }
  },
  {
   "cell_type": "code",
   "execution_count": 46,
   "outputs": [
    {
     "data": {
      "text/plain": "  order of processes  enter time  exit time  duration\n0                 p1           0          4         4\n1                 p2           4          8         4\n2                 p3           8         12         4\n3                 p1          12         16         4\n4                 p4          16         19         3\n5                 p2          19         21         2\n6                 p5          21         25         4\n7                 p1          25         27         2\n8                 p5          27         28         1",
      "text/html": "<div>\n<style scoped>\n    .dataframe tbody tr th:only-of-type {\n        vertical-align: middle;\n    }\n\n    .dataframe tbody tr th {\n        vertical-align: top;\n    }\n\n    .dataframe thead th {\n        text-align: right;\n    }\n</style>\n<table border=\"1\" class=\"dataframe\">\n  <thead>\n    <tr style=\"text-align: right;\">\n      <th></th>\n      <th>order of processes</th>\n      <th>enter time</th>\n      <th>exit time</th>\n      <th>duration</th>\n    </tr>\n  </thead>\n  <tbody>\n    <tr>\n      <th>0</th>\n      <td>p1</td>\n      <td>0</td>\n      <td>4</td>\n      <td>4</td>\n    </tr>\n    <tr>\n      <th>1</th>\n      <td>p2</td>\n      <td>4</td>\n      <td>8</td>\n      <td>4</td>\n    </tr>\n    <tr>\n      <th>2</th>\n      <td>p3</td>\n      <td>8</td>\n      <td>12</td>\n      <td>4</td>\n    </tr>\n    <tr>\n      <th>3</th>\n      <td>p1</td>\n      <td>12</td>\n      <td>16</td>\n      <td>4</td>\n    </tr>\n    <tr>\n      <th>4</th>\n      <td>p4</td>\n      <td>16</td>\n      <td>19</td>\n      <td>3</td>\n    </tr>\n    <tr>\n      <th>5</th>\n      <td>p2</td>\n      <td>19</td>\n      <td>21</td>\n      <td>2</td>\n    </tr>\n    <tr>\n      <th>6</th>\n      <td>p5</td>\n      <td>21</td>\n      <td>25</td>\n      <td>4</td>\n    </tr>\n    <tr>\n      <th>7</th>\n      <td>p1</td>\n      <td>25</td>\n      <td>27</td>\n      <td>2</td>\n    </tr>\n    <tr>\n      <th>8</th>\n      <td>p5</td>\n      <td>27</td>\n      <td>28</td>\n      <td>1</td>\n    </tr>\n  </tbody>\n</table>\n</div>"
     },
     "metadata": {},
     "output_type": "display_data"
    },
    {
     "name": "stdout",
     "output_type": "stream",
     "text": [
      "elapsed time :28 \n",
      "Waiting Time :10.4 \n"
     ]
    }
   ],
   "source": [
    "\n",
    "\n",
    "global waiting_queue\n",
    "waiting_queue= deque()\n",
    "global gantt_chart\n",
    "gantt_chart = []\n",
    "global processes\n",
    "processes = process_table.values.tolist()\n",
    "global elapsed_time\n",
    "\n",
    "elapsed_time = 0\n",
    "global processes_backup\n",
    "processes_backup=deepcopy(processes)\n",
    "\n",
    "\n",
    "def round_robin():\n",
    "    global gantt_chart\n",
    "    global elapsed_time\n",
    "    time_table=[]\n",
    "    exit_table=[]\n",
    "\n",
    "\n",
    "    while True:\n",
    "\n",
    "\n",
    "        check_time()\n",
    "        if len(waiting_queue) == 0:\n",
    "            break\n",
    "        ready_proc = waiting_queue.popleft()\n",
    "\n",
    "        gantt_chart.append(ready_proc)\n",
    "\n",
    "        time_table.append(elapsed_time)\n",
    "\n",
    "        if ready_proc[2] > 0:\n",
    "            if ready_proc[2] > quantum:\n",
    "                tick(quantum)\n",
    "                ready_proc[2] -= quantum\n",
    "                waiting_queue.append(ready_proc)\n",
    "            else:\n",
    "                tick(ready_proc[2])\n",
    "                ready_proc[2] = 0\n",
    "            exit_table.append(elapsed_time)\n",
    "\n",
    "    gantt_chart=pd.DataFrame(gantt_chart)\n",
    "    gantt_chart=gantt_chart.rename(columns={0:'order of processes',1:'entry_time',2:'burst_time',3:'enter time',4:'exit time',5:'duration'})\n",
    "    gantt_chart.drop(columns=['entry_time','burst_time'],inplace=True)\n",
    "    gantt_chart[\"enter time\"]=time_table\n",
    "    gantt_chart['exit time']=exit_table\n",
    "    gantt_chart['duration']=list(map(operator.sub,exit_table,time_table))\n",
    "    display(gantt_chart)\n",
    "    print(\"elapsed time :{} \".format(elapsed_time))\n",
    "\n",
    "    print(\"Waiting Time :{} \".format(waiting_time_calc()))\n",
    "\n",
    "\n",
    "def check_time():\n",
    "    global elapsed_time\n",
    "    for row in range(len(processes)):\n",
    "            if elapsed_time >= processes[row][1]:\n",
    "                if processes[row][1] >= 0:\n",
    "                    waiting_queue.append(processes[row])\n",
    "                    processes[row][1] = -1\n",
    "\n",
    "\n",
    "\n",
    "def tick(sec):\n",
    "    global elapsed_time\n",
    "    for t in range(sec):\n",
    "        elapsed_time += 1\n",
    "        check_time()\n",
    "\n",
    "round_robin()\n"
   ],
   "metadata": {
    "collapsed": false,
    "pycharm": {
     "name": "#%%\n"
    }
   }
  },
  {
   "cell_type": "code",
   "execution_count": 44,
   "outputs": [],
   "source": [
    "def waiting_time_calc():\n",
    "\n",
    "    global processes_backup\n",
    "    g_table = gantt_chart.values.tolist()\n",
    "    g_table.sort(reverse = True, key = lambda x: x[2])\n",
    "    last_list = []\n",
    "    up_side = 0.0\n",
    "\n",
    "    for proc in processes_backup:\n",
    "        for item in g_table:\n",
    "            if item[0] == proc[0]:\n",
    "                last_list.append(item[2])\n",
    "                break\n",
    "\n",
    "    for proc in range(len(processes_backup)):\n",
    "        up_side += (last_list[proc] - processes_backup[proc][2] - processes_backup[proc][1])\n",
    "\n",
    "    waiting_time = up_side / number_of_processes\n",
    "\n",
    "    return waiting_time\n"
   ],
   "metadata": {
    "collapsed": false,
    "pycharm": {
     "name": "#%%\n"
    }
   }
  },
  {
   "cell_type": "code",
   "execution_count": 43,
   "outputs": [
    {
     "data": {
      "text/plain": "<AxesSubplot:>"
     },
     "execution_count": 43,
     "metadata": {},
     "output_type": "execute_result"
    },
    {
     "data": {
      "text/plain": "<Figure size 576x576 with 1 Axes>",
      "image/png": "[encoded data removed]"
     },
     "metadata": {
      "needs_background": "light"
     },
     "output_type": "display_data"
    },
    {
     "data": {
      "text/plain": "<Figure size 432x432 with 1 Axes>",
      "image/png": "[encoded data removed]"
     },
     "metadata": {
      "needs_background": "light"
     },
     "output_type": "display_data"
    }
   ],
   "source": [
    "gantt_chart.plot.barh(y=['enter time', 'exit time'], figsize=(8,8))\n",
    "gantt_chart.plot.bar(y=\"duration\", figsize=(6,6))"
   ],
   "metadata": {
    "collapsed": false,
    "pycharm": {
     "name": "#%%\n"
    }
   }
  },
  {
   "cell_type": "code",
   "execution_count": null,
   "outputs": [],
   "source": [],
   "metadata": {
    "collapsed": false,
    "pycharm": {
     "name": "#%%\n"
    }
   }
  },
  {
   "cell_type": "markdown",
   "source": [],
   "metadata": {
    "collapsed": false,
    "pycharm": {
     "name": "#%% md\n"
    }
   }
  },
  {
   "cell_type": "markdown",
   "source": [
    "\n"
   ],
   "metadata": {
    "collapsed": false,
    "pycharm": {
     "name": "#%% md\n"
    }
   }
  }
 ],
 "metadata": {
  "kernelspec": {
   "display_name": "Python 3",
   "language": "python",
   "name": "python3"
  },
  "language_info": {
   "codemirror_mode": {
    "name": "ipython",
    "version": 2
   },
   "file_extension": ".py",
   "mimetype": "text/x-python",
   "name": "python",
   "nbconvert_exporter": "python",
   "pygments_lexer": "ipython2",
   "version": "2.7.6"
  }
 },
 "nbformat": 4,
 "nbformat_minor": 0
}