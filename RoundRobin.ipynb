{
 "cells": [
  {
   "cell_type": "markdown",
   "metadata": {
    "collapsed": true,
    "pycharm": {
     "name": "#%% md\n"
    }
   },
   "source": [
    "# OS project: Round Robin"
   ]
  },
  {
   "cell_type": "code",
   "execution_count": 4,
   "outputs": [],
   "source": [
    "import time\n",
    "\n",
    "import numpy as np\n",
    "import pandas as pd"
   ],
   "metadata": {
    "collapsed": false,
    "pycharm": {
     "name": "#%%\n"
    }
   }
  },
  {
   "cell_type": "markdown",
   "source": [
    "## inputs:"
   ],
   "metadata": {
    "collapsed": false,
    "pycharm": {
     "name": "#%% md\n"
    }
   }
  },
  {
   "cell_type": "code",
   "execution_count": 12,
   "outputs": [
    {
     "name": "stdout",
     "output_type": "stream",
     "text": [
      "number of processes: 5\n",
      "quantum: 0.04\n"
     ]
    },
    {
     "data": {
      "text/plain": "  name  entry_time  burst_time\n0   p1        0.00        0.10\n1   p2        0.03        0.06\n2   p3        0.03        0.04\n3   p4        0.08        0.03\n4   p5        0.13        0.05",
      "text/html": "<div>\n<style scoped>\n    .dataframe tbody tr th:only-of-type {\n        vertical-align: middle;\n    }\n\n    .dataframe tbody tr th {\n        vertical-align: top;\n    }\n\n    .dataframe thead th {\n        text-align: right;\n    }\n</style>\n<table border=\"1\" class=\"dataframe\">\n  <thead>\n    <tr style=\"text-align: right;\">\n      <th></th>\n      <th>name</th>\n      <th>entry_time</th>\n      <th>burst_time</th>\n    </tr>\n  </thead>\n  <tbody>\n    <tr>\n      <th>0</th>\n      <td>p1</td>\n      <td>0.00</td>\n      <td>0.10</td>\n    </tr>\n    <tr>\n      <th>1</th>\n      <td>p2</td>\n      <td>0.03</td>\n      <td>0.06</td>\n    </tr>\n    <tr>\n      <th>2</th>\n      <td>p3</td>\n      <td>0.03</td>\n      <td>0.04</td>\n    </tr>\n    <tr>\n      <th>3</th>\n      <td>p4</td>\n      <td>0.08</td>\n      <td>0.03</td>\n    </tr>\n    <tr>\n      <th>4</th>\n      <td>p5</td>\n      <td>0.13</td>\n      <td>0.05</td>\n    </tr>\n  </tbody>\n</table>\n</div>"
     },
     "metadata": {},
     "output_type": "display_data"
    }
   ],
   "source": [
    "processes = []\n",
    "# name, enter_time, burst_time\n",
    "\n",
    "number_of_processes = input(\"enter the number of processes\")\n",
    "for i in range(eval(number_of_processes)):\n",
    "    name = input(\"name of processes: \")\n",
    "    entry_time = eval(input(\"entry time: (enter based on nano sec)\"))\n",
    "    burst_time = eval(input(\"burst time: (enter based on nano sec)\"))\n",
    "    processes.append([name, entry_time, burst_time])\n",
    "quantum=eval(input(\"enter quantum: (enter based on nano sec)\"))\n",
    "print(\"number of processes: {}\".format(number_of_processes))\n",
    "print(\"quantum: {}\".format(quantum))\n",
    "process_table=pd.DataFrame(processes)\n",
    "process_table=process_table.rename(columns={0:'name',1:'entry_time',2:'burst_time'})\n",
    "display(process_table)\n",
    "\n"
   ],
   "metadata": {
    "collapsed": false,
    "pycharm": {
     "name": "#%%\n"
    }
   }
  },
  {
   "cell_type": "markdown",
   "source": [
    "## Data Structures:"
   ],
   "metadata": {
    "collapsed": false,
    "pycharm": {
     "name": "#%% md\n"
    }
   }
  },
  {
   "cell_type": "code",
   "execution_count": 18,
   "outputs": [],
   "source": [],
   "metadata": {
    "collapsed": false,
    "pycharm": {
     "name": "#%%\n"
    }
   }
  },
  {
   "cell_type": "markdown",
   "source": [],
   "metadata": {
    "collapsed": false,
    "pycharm": {
     "name": "#%% md\n"
    }
   }
  },
  {
   "cell_type": "markdown",
   "source": [
    "## Pre processing:\n"
   ],
   "metadata": {
    "collapsed": false,
    "pycharm": {
     "name": "#%% md\n"
    }
   }
  },
  {
   "cell_type": "code",
   "execution_count": 14,
   "outputs": [
    {
     "data": {
      "text/plain": "  name  entry_time  burst_time\n0   p1        0.00        0.10\n1   p2        0.03        0.06\n2   p3        0.03        0.04\n3   p4        0.08        0.03\n4   p5        0.13        0.05",
      "text/html": "<div>\n<style scoped>\n    .dataframe tbody tr th:only-of-type {\n        vertical-align: middle;\n    }\n\n    .dataframe tbody tr th {\n        vertical-align: top;\n    }\n\n    .dataframe thead th {\n        text-align: right;\n    }\n</style>\n<table border=\"1\" class=\"dataframe\">\n  <thead>\n    <tr style=\"text-align: right;\">\n      <th></th>\n      <th>name</th>\n      <th>entry_time</th>\n      <th>burst_time</th>\n    </tr>\n  </thead>\n  <tbody>\n    <tr>\n      <th>0</th>\n      <td>p1</td>\n      <td>0.00</td>\n      <td>0.10</td>\n    </tr>\n    <tr>\n      <th>1</th>\n      <td>p2</td>\n      <td>0.03</td>\n      <td>0.06</td>\n    </tr>\n    <tr>\n      <th>2</th>\n      <td>p3</td>\n      <td>0.03</td>\n      <td>0.04</td>\n    </tr>\n    <tr>\n      <th>3</th>\n      <td>p4</td>\n      <td>0.08</td>\n      <td>0.03</td>\n    </tr>\n    <tr>\n      <th>4</th>\n      <td>p5</td>\n      <td>0.13</td>\n      <td>0.05</td>\n    </tr>\n  </tbody>\n</table>\n</div>"
     },
     "metadata": {},
     "output_type": "display_data"
    }
   ],
   "source": [
    "process_table.sort_values(by='entry_time',inplace=True)\n",
    "display(process_table)"
   ],
   "metadata": {
    "collapsed": false,
    "pycharm": {
     "name": "#%%\n"
    }
   }
  },
  {
   "cell_type": "markdown",
   "source": [
    "## Main code:"
   ],
   "metadata": {
    "collapsed": false,
    "pycharm": {
     "name": "#%% md\n"
    }
   }
  },
  {
   "cell_type": "code",
   "execution_count": 51,
   "outputs": [
    {
     "name": "stdout",
     "output_type": "stream",
     "text": [
      "['p1']\n"
     ]
    }
   ],
   "source": [
    "waiting_queue=[]\n",
    "finished_queue=[]\n",
    "gantt_chart = []\n",
    "\n",
    "def round_robin():\n",
    "    clock = 0.0\n",
    "    in_process = process_table.iloc[0,0]\n",
    "    gantt_chart.append(in_process)\n",
    "    print(gantt_chart)\n",
    "    time.sleep(quantum)\n",
    "    clock += quantum\n",
    "\n",
    "\n",
    "\n",
    "round_robin()"
   ],
   "metadata": {
    "collapsed": false,
    "pycharm": {
     "name": "#%%\n"
    }
   }
  },
  {
   "cell_type": "markdown",
   "source": [],
   "metadata": {
    "collapsed": false,
    "pycharm": {
     "name": "#%% md\n"
    }
   }
  }
 ],
 "metadata": {
  "kernelspec": {
   "display_name": "Python 3",
   "language": "python",
   "name": "python3"
  },
  "language_info": {
   "codemirror_mode": {
    "name": "ipython",
    "version": 2
   },
   "file_extension": ".py",
   "mimetype": "text/x-python",
   "name": "python",
   "nbconvert_exporter": "python",
   "pygments_lexer": "ipython2",
   "version": "2.7.6"
  }
 },
 "nbformat": 4,
 "nbformat_minor": 0
}